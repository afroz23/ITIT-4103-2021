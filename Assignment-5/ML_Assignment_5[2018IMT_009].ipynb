{
  "nbformat": 4,
  "nbformat_minor": 0,
  "metadata": {
    "kernelspec": {
      "display_name": "Python 3",
      "language": "python",
      "name": "python3"
    },
    "language_info": {
      "codemirror_mode": {
        "name": "ipython",
        "version": 3
      },
      "file_extension": ".py",
      "mimetype": "text/x-python",
      "name": "python",
      "nbconvert_exporter": "python",
      "pygments_lexer": "ipython3",
      "version": "3.7.3"
    },
    "colab": {
      "name": "ML_Assignment_5[2018IMT_009].ipynb",
      "provenance": []
    }
  },
  "cells": [
    {
      "cell_type": "markdown",
      "metadata": {
        "id": "AziSowHeHRpJ"
      },
      "source": [
        "### Name: Afroz Quraishi\n",
        "### Roll No: 2018IMT-009\n",
        "### Course: Machine Learning Lab\n",
        "### Course Code: ITIT - 4107\n",
        "### Deadline : 25 October 2021"
      ]
    },
    {
      "cell_type": "markdown",
      "metadata": {
        "id": "4VvYWmcoHRpM"
      },
      "source": [
        "## Problem Statement\n",
        "\n",
        "Given iris dataset (https://archive.ics.uci.edu/ml/datasets/iris) with 3 classes and 4 features such as sepals/petals, Length, width etc. for each flower in the dataset. There are 50 instances per class in the dataset. Use Bayes Classifier as your base classifier model. Use 60% samples for training and 40% samples for testing.\n",
        "\n",
        "1. Perform feature selection on this dataset using forward search.\n",
        "\n",
        "2. As you select features, until 2 features, plot your right and incorrect classification instances for all classes.\n",
        "\n",
        "3. For all the set of features selected, plot the accuracies to show the best subset of selected features"
      ]
    },
    {
      "cell_type": "markdown",
      "metadata": {
        "id": "DvFLXHI4HRpO"
      },
      "source": [
        "## Importing libraries"
      ]
    },
    {
      "cell_type": "code",
      "metadata": {
        "id": "Ai_wDrJ1HRpP"
      },
      "source": [
        "import numpy as np\n",
        "import scipy as sp\n",
        "import pandas as pd\n",
        "from sklearn.model_selection import train_test_split\n",
        "from sklearn.preprocessing import LabelEncoder\n",
        "from matplotlib import pyplot as plt"
      ],
      "execution_count": null,
      "outputs": []
    },
    {
      "cell_type": "markdown",
      "metadata": {
        "id": "AmSoB0QtHRpQ"
      },
      "source": [
        "## Loading Data"
      ]
    },
    {
      "cell_type": "code",
      "metadata": {
        "colab": {
          "base_uri": "https://localhost:8080/",
          "height": 203
        },
        "id": "tAjvItBIHRpQ",
        "outputId": "5607f95a-6fa9-4a89-bddb-f15da6587bf9"
      },
      "source": [
        "data_url = 'https://archive.ics.uci.edu/ml/machine-learning-databases/iris/iris.data'\n",
        "df = pd.read_csv(data_url, header = None)\n",
        "df.columns = ['sepal_length', 'sepal_width', 'petal_length', 'petal_width', 'species']\n",
        "X = df.iloc[:, :4].values\n",
        "y = df['species'].values\n",
        "df.head()"
      ],
      "execution_count": null,
      "outputs": [
        {
          "output_type": "execute_result",
          "data": {
            "text/html": [
              "<div>\n",
              "<style scoped>\n",
              "    .dataframe tbody tr th:only-of-type {\n",
              "        vertical-align: middle;\n",
              "    }\n",
              "\n",
              "    .dataframe tbody tr th {\n",
              "        vertical-align: top;\n",
              "    }\n",
              "\n",
              "    .dataframe thead th {\n",
              "        text-align: right;\n",
              "    }\n",
              "</style>\n",
              "<table border=\"1\" class=\"dataframe\">\n",
              "  <thead>\n",
              "    <tr style=\"text-align: right;\">\n",
              "      <th></th>\n",
              "      <th>sepal_length</th>\n",
              "      <th>sepal_width</th>\n",
              "      <th>petal_length</th>\n",
              "      <th>petal_width</th>\n",
              "      <th>species</th>\n",
              "    </tr>\n",
              "  </thead>\n",
              "  <tbody>\n",
              "    <tr>\n",
              "      <th>0</th>\n",
              "      <td>5.1</td>\n",
              "      <td>3.5</td>\n",
              "      <td>1.4</td>\n",
              "      <td>0.2</td>\n",
              "      <td>Iris-setosa</td>\n",
              "    </tr>\n",
              "    <tr>\n",
              "      <th>1</th>\n",
              "      <td>4.9</td>\n",
              "      <td>3.0</td>\n",
              "      <td>1.4</td>\n",
              "      <td>0.2</td>\n",
              "      <td>Iris-setosa</td>\n",
              "    </tr>\n",
              "    <tr>\n",
              "      <th>2</th>\n",
              "      <td>4.7</td>\n",
              "      <td>3.2</td>\n",
              "      <td>1.3</td>\n",
              "      <td>0.2</td>\n",
              "      <td>Iris-setosa</td>\n",
              "    </tr>\n",
              "    <tr>\n",
              "      <th>3</th>\n",
              "      <td>4.6</td>\n",
              "      <td>3.1</td>\n",
              "      <td>1.5</td>\n",
              "      <td>0.2</td>\n",
              "      <td>Iris-setosa</td>\n",
              "    </tr>\n",
              "    <tr>\n",
              "      <th>4</th>\n",
              "      <td>5.0</td>\n",
              "      <td>3.6</td>\n",
              "      <td>1.4</td>\n",
              "      <td>0.2</td>\n",
              "      <td>Iris-setosa</td>\n",
              "    </tr>\n",
              "  </tbody>\n",
              "</table>\n",
              "</div>"
            ],
            "text/plain": [
              "   sepal_length  sepal_width  petal_length  petal_width      species\n",
              "0           5.1          3.5           1.4          0.2  Iris-setosa\n",
              "1           4.9          3.0           1.4          0.2  Iris-setosa\n",
              "2           4.7          3.2           1.3          0.2  Iris-setosa\n",
              "3           4.6          3.1           1.5          0.2  Iris-setosa\n",
              "4           5.0          3.6           1.4          0.2  Iris-setosa"
            ]
          },
          "metadata": {},
          "execution_count": 5
        }
      ]
    },
    {
      "cell_type": "markdown",
      "metadata": {
        "id": "fx6iLO4DHRpS"
      },
      "source": [
        "Encoding the species type to integers values"
      ]
    },
    {
      "cell_type": "code",
      "metadata": {
        "colab": {
          "base_uri": "https://localhost:8080/"
        },
        "id": "mNB63bV7HRpS",
        "outputId": "8981772d-5e43-46f4-d76a-6aa41b96979c"
      },
      "source": [
        "le = LabelEncoder()\n",
        "le.fit(df.species)\n",
        "y = le.transform(df.species)\n",
        "print(le.classes_)"
      ],
      "execution_count": null,
      "outputs": [
        {
          "output_type": "stream",
          "name": "stdout",
          "text": [
            "['Iris-setosa' 'Iris-versicolor' 'Iris-virginica']\n"
          ]
        }
      ]
    },
    {
      "cell_type": "code",
      "metadata": {
        "id": "zZhJLLTEHRpT"
      },
      "source": [
        "x_train, x_test, y_train, y_test = train_test_split(X, y, test_size=0.4, random_state=0)"
      ],
      "execution_count": null,
      "outputs": []
    },
    {
      "cell_type": "markdown",
      "metadata": {
        "id": "R9F1OW4kHRpT"
      },
      "source": [
        "## Implementing bayesian model"
      ]
    },
    {
      "cell_type": "code",
      "metadata": {
        "id": "2DRUnB4qHRpU"
      },
      "source": [
        "from sklearn.naive_bayes import GaussianNB\n",
        "from sklearn.metrics import confusion_matrix, accuracy_score\n",
        "import seaborn as sns\n",
        "classifier = GaussianNB()"
      ],
      "execution_count": null,
      "outputs": []
    },
    {
      "cell_type": "markdown",
      "metadata": {
        "id": "986mAss_HRpU"
      },
      "source": [
        "### Here each feature was taken individually for the model evaluation \n",
        "\n",
        "#### Training model using sepal_length feature and target variable is used"
      ]
    },
    {
      "cell_type": "code",
      "metadata": {
        "colab": {
          "base_uri": "https://localhost:8080/",
          "height": 302
        },
        "id": "KA_hLuiWHRpV",
        "outputId": "aeff59d9-e9fe-49d0-bc84-165044cdc84d"
      },
      "source": [
        "classifier.fit(x_train[:, 0].reshape(-1, 1), y_train)\n",
        "y_pred = classifier.predict(x_test[:, 0].reshape(-1,1))\n",
        "cm = confusion_matrix(y_test, y_pred)\n",
        "print (\"Accuracy when sepal length is chosen : \", accuracy_score(y_test, y_pred))\n",
        "fig = plt.figure()\n",
        "sns.heatmap(cm, annot=True, cmap=\"Oranges\")\n",
        "plt.plot()\n",
        "print('=='*5)"
      ],
      "execution_count": null,
      "outputs": [
        {
          "output_type": "stream",
          "name": "stdout",
          "text": [
            "Accuracy when sepal length is chosen :  0.6333333333333333\n",
            "==========\n"
          ]
        },
        {
          "output_type": "display_data",
          "data": {
            "image/png": "[encoded data removed]",
            "text/plain": [
              "<Figure size 432x288 with 2 Axes>"
            ]
          },
          "metadata": {
            "needs_background": "light"
          }
        }
      ]
    },
    {
      "cell_type": "markdown",
      "metadata": {
        "id": "ehCURrjKHRpV"
      },
      "source": [
        "#### Training model using sepal_width feature and target variable is used\n"
      ]
    },
    {
      "cell_type": "code",
      "metadata": {
        "colab": {
          "base_uri": "https://localhost:8080/",
          "height": 302
        },
        "id": "V51WjaOZHRpW",
        "outputId": "d866ca37-7939-439c-a373-099176e2c532"
      },
      "source": [
        "classifier.fit(x_train[:, 1].reshape(-1, 1), y_train)\n",
        "y_pred = classifier.predict(x_test[:, 1].reshape(-1,1))\n",
        "cm = confusion_matrix(y_test, y_pred)\n",
        "print (\"Accuracy when sepal width is chosen : \", accuracy_score(y_test, y_pred))\n",
        "sns.heatmap(cm, annot=True, cmap=\"Oranges\")\n",
        "print('=='*5)"
      ],
      "execution_count": null,
      "outputs": [
        {
          "output_type": "stream",
          "name": "stdout",
          "text": [
            "Accuracy when sepal width is chosen :  0.5833333333333334\n",
            "==========\n"
          ]
        },
        {
          "output_type": "display_data",
          "data": {
            "image/png": "[encoded data removed]",
            "text/plain": [
              "<Figure size 432x288 with 2 Axes>"
            ]
          },
          "metadata": {
            "needs_background": "light"
          }
        }
      ]
    },
    {
      "cell_type": "markdown",
      "metadata": {
        "id": "gImbhdOCHRpX"
      },
      "source": [
        "#### Training model using petal_length feature and target variable is used\n"
      ]
    },
    {
      "cell_type": "code",
      "metadata": {
        "colab": {
          "base_uri": "https://localhost:8080/",
          "height": 298
        },
        "id": "EGYdY-J5HRpX",
        "outputId": "db79d11b-2609-45df-84ba-39f527052ab5"
      },
      "source": [
        "classifier.fit(x_train[:, 2].reshape(-1, 1), y_train)\n",
        "y_pred = classifier.predict(x_test[:, 2].reshape(-1,1))\n",
        "cm = confusion_matrix(y_test, y_pred)\n",
        "print (\"Accuracy when petal length is chosen : \", accuracy_score(y_test, y_pred))\n",
        "sns.heatmap(cm, annot=True, cmap=\"Oranges\")\n",
        "print('=='*5)"
      ],
      "execution_count": null,
      "outputs": [
        {
          "output_type": "stream",
          "name": "stdout",
          "text": [
            "Accuracy when petal length is chosen :  0.9\n",
            "==========\n"
          ]
        },
        {
          "output_type": "display_data",
          "data": {
            "image/png": "[encoded data removed]",
            "text/plain": [
              "<Figure size 432x288 with 2 Axes>"
            ]
          },
          "metadata": {
            "needs_background": "light"
          }
        }
      ]
    },
    {
      "cell_type": "markdown",
      "metadata": {
        "id": "GNeiQ9iOHRpY"
      },
      "source": [
        "#### Training model using petal_width feature and target variable is used\n"
      ]
    },
    {
      "cell_type": "code",
      "metadata": {
        "scrolled": false,
        "colab": {
          "base_uri": "https://localhost:8080/",
          "height": 298
        },
        "id": "eDzf82AUHRpY",
        "outputId": "2089f6fb-70ff-448f-fcdf-755ff892660d"
      },
      "source": [
        "classifier.fit(x_train[:, 3].reshape(-1, 1), y_train)\n",
        "y_pred = classifier.predict(x_test[:, 3].reshape(-1,1))\n",
        "cm = confusion_matrix(y_test, y_pred)\n",
        "print (\"Accuracy when petal width is chosen : \", accuracy_score(y_test, y_pred))\n",
        "sns.heatmap(cm, annot=True, cmap=\"Oranges\")\n",
        "print('=='*5)"
      ],
      "execution_count": null,
      "outputs": [
        {
          "output_type": "stream",
          "name": "stdout",
          "text": [
            "Accuracy when petal width is chosen :  0.95\n",
            "==========\n"
          ]
        },
        {
          "output_type": "display_data",
          "data": {
            "image/png": "[encoded data removed]",
            "text/plain": [
              "<Figure size 432x288 with 2 Axes>"
            ]
          },
          "metadata": {
            "needs_background": "light"
          }
        }
      ]
    },
    {
      "cell_type": "markdown",
      "metadata": {
        "id": "vGrBN7K5HRpZ"
      },
      "source": [
        "### Multiple features was taken into consideration\n",
        "Here we can see that the petal length has the highest accuracy so we will take <b>petal width</b> as one of the feature for the model.\n",
        "\n",
        "We will find other feature by trying different combination of the feature with petal width as one of the feature."
      ]
    },
    {
      "cell_type": "markdown",
      "metadata": {
        "id": "3WoJWgmJHRpZ"
      },
      "source": [
        "#### Training model using petal_width and sepal_length as input feature and target variable is used\n"
      ]
    },
    {
      "cell_type": "code",
      "metadata": {
        "scrolled": false,
        "colab": {
          "base_uri": "https://localhost:8080/",
          "height": 298
        },
        "id": "fBgEWxZfHRpa",
        "outputId": "677bcd9a-553a-4cb5-9545-8774291c2ee2"
      },
      "source": [
        "x_input1 = np.array([[inp[0], inp[3]] for inp in x_train])\n",
        "x_te = np.array([[inp[0], inp[3]] for inp in x_test])\n",
        "classifier.fit(x_input1, y_train)\n",
        "y_pred = classifier.predict(x_te)\n",
        "cm = confusion_matrix(y_test, y_pred)\n",
        "print (\"Accuracy when petal_width and sepal_length is chosen : \", accuracy_score(y_test, y_pred))\n",
        "sns.heatmap(cm, annot=True, cmap=\"Oranges\")\n",
        "print('=='*5)"
      ],
      "execution_count": null,
      "outputs": [
        {
          "output_type": "stream",
          "name": "stdout",
          "text": [
            "Accuracy when petal_width and sepal_length is chosen :  0.9333333333333333\n",
            "==========\n"
          ]
        },
        {
          "output_type": "display_data",
          "data": {
            "image/png": "[encoded data removed]",
            "text/plain": [
              "<Figure size 432x288 with 2 Axes>"
            ]
          },
          "metadata": {
            "needs_background": "light"
          }
        }
      ]
    },
    {
      "cell_type": "markdown",
      "metadata": {
        "id": "qIqdSzYeHRpa"
      },
      "source": [
        "#### Training model using petal_width and sepal_width as input feature and target variable is used\n"
      ]
    },
    {
      "cell_type": "code",
      "metadata": {
        "colab": {
          "base_uri": "https://localhost:8080/",
          "height": 298
        },
        "id": "lrTx_0uxHRpb",
        "outputId": "9033c852-c714-4fe7-dba3-b9474c40c53f"
      },
      "source": [
        "x_input2 = np.array([[inp[1], inp[3]] for inp in x_train])\n",
        "x_te = np.array([[inp[1], inp[3]] for inp in x_test])\n",
        "classifier.fit(x_input2, y_train)\n",
        "y_pred = classifier.predict(x_te)\n",
        "cm = confusion_matrix(y_test, y_pred)\n",
        "print (\"Accuracy when petal_width and sepal_width is chosen : \", accuracy_score(y_test, y_pred))\n",
        "sns.heatmap(cm, annot=True, cmap=\"Oranges\")\n",
        "print('=='*5)"
      ],
      "execution_count": null,
      "outputs": [
        {
          "output_type": "stream",
          "name": "stdout",
          "text": [
            "Accuracy when petal_width and sepal_width is chosen :  0.9333333333333333\n",
            "==========\n"
          ]
        },
        {
          "output_type": "display_data",
          "data": {
            "image/png": "[encoded data removed]",
            "text/plain": [
              "<Figure size 432x288 with 2 Axes>"
            ]
          },
          "metadata": {
            "needs_background": "light"
          }
        }
      ]
    },
    {
      "cell_type": "markdown",
      "metadata": {
        "id": "RZ1KqM_HHRpb"
      },
      "source": [
        "#### Training model using petal_width and petal_length as input feature and target variable is used\n"
      ]
    },
    {
      "cell_type": "code",
      "metadata": {
        "scrolled": false,
        "colab": {
          "base_uri": "https://localhost:8080/",
          "height": 298
        },
        "id": "3ltWSiVLHRpb",
        "outputId": "5919b6a3-9c60-4bed-8936-23856dacfb1c"
      },
      "source": [
        "x_input3 = np.array([[inp[2], inp[3]] for inp in x_train])\n",
        "x_te = np.array([[inp[2], inp[3]] for inp in x_test])\n",
        "classifier.fit(x_input3, y_train)\n",
        "y_pred = classifier.predict(x_te)\n",
        "cm = confusion_matrix(y_test, y_pred)\n",
        "print (\"Accuracy when petal_width and petal_length is chosen : \", accuracy_score(y_test, y_pred))\n",
        "sns.heatmap(cm, annot=True, cmap=\"Oranges\")\n",
        "print('=='*5)\n"
      ],
      "execution_count": null,
      "outputs": [
        {
          "output_type": "stream",
          "name": "stdout",
          "text": [
            "Accuracy when petal_width and petal_length is chosen :  0.9333333333333333\n",
            "==========\n"
          ]
        },
        {
          "output_type": "display_data",
          "data": {
            "image/png": "[encoded data removed]",
            "text/plain": [
              "<Figure size 432x288 with 2 Axes>"
            ]
          },
          "metadata": {
            "needs_background": "light"
          }
        }
      ]
    }
  ]
}